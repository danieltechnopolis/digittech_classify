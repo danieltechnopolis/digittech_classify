{
 "cells": [
  {
   "cell_type": "code",
   "execution_count": null,
   "id": "276a1bf4",
   "metadata": {},
   "outputs": [],
   "source": [
    "import sys\n",
    "sys.path.append(\"../../digitech_classify\")\n",
    "\n",
    "from digitech_classify.config import RAW_DATA_DIR, INTERIM_DATA_DIR\n",
    "from digitech_classify.features import extract_noun_phrases, batch_lemmatize, nlp_fast, nlp_full\n",
    "import pandas as pd\n",
    "\n",
    "\n"
   ]
  },
  {
   "cell_type": "code",
   "execution_count": null,
   "id": "bc32af5e",
   "metadata": {},
   "outputs": [],
   "source": [
    "\n",
    "companies_df = pd.read_csv(RAW_DATA_DIR / \"cb_net0_companies_concat.csv\",\n",
    "        usecols=['org_ID', 'organisation_name', 'short_description', 'data_source'],\n",
    "        dtype={'org_ID': 'string', 'organisation_name': 'string', 'short_description': 'string', 'data_source': 'string'},\n",
    "        index_col=False)  \n",
    "companies_df = companies_df[companies_df['data_source'] != 'Net0']\n",
    "\n",
    "print(companies_df.shape)"
   ]
  },
  {
   "cell_type": "code",
   "execution_count": null,
   "id": "630bfa17",
   "metadata": {},
   "outputs": [],
   "source": [
    "companies_df['search_text'] = (\n",
    "    companies_df['short_description']\n",
    "    .fillna('')\n",
    "    .str.lower()\n",
    "    .str.replace(r'[^\\w\\s]', ' ', regex=True)\n",
    "    .str.replace(r'\\s+', ' ', regex=True)\n",
    "    .str.strip()\n",
    ")\n",
    "\n",
    "companies_df.drop(['short_description'], axis=1, inplace=True)"
   ]
  },
  {
   "cell_type": "code",
   "execution_count": null,
   "id": "91aae218",
   "metadata": {},
   "outputs": [],
   "source": [
    "companies_df['features'] = extract_noun_phrases(companies_df['search_text'].tolist(), model=nlp_full, batch_size=5000, n_process=2)\n"
   ]
  },
  {
   "cell_type": "code",
   "execution_count": null,
   "id": "6f13f9b2",
   "metadata": {},
   "outputs": [],
   "source": [
    "save_path = INTERIM_DATA_DIR / \"noun_phrase_companies.csv\"\n",
    "companies_df.to_csv(save_path, index=False)"
   ]
  },
  {
   "cell_type": "code",
   "execution_count": null,
   "id": "3587c7d1",
   "metadata": {},
   "outputs": [],
   "source": [
    "companies_df = pd.read_csv(INTERIM_DATA_DIR / \"noun_phrase_companies.csv\",\n",
    "        usecols=['org_ID', 'organisation_name', 'features'])"
   ]
  },
  {
   "cell_type": "code",
   "execution_count": null,
   "id": "6381aba2",
   "metadata": {},
   "outputs": [],
   "source": [
    "companies_df = companies_df.dropna(subset=['search_text'])\n",
    "\n",
    "companies_df['features_lemma'] = batch_lemmatize(\n",
    "    companies_df['search_text'].tolist(), model=nlp_fast, batch_size=5000\n",
    ")\n",
    "\n",
    "\n"
   ]
  },
  {
   "cell_type": "code",
   "execution_count": null,
   "id": "a5e70068",
   "metadata": {},
   "outputs": [],
   "source": [
    "companies_df = companies_df.drop(columns=['data_source', 'search_text'])"
   ]
  },
  {
   "cell_type": "code",
   "execution_count": null,
   "id": "0f2c72e2",
   "metadata": {},
   "outputs": [],
   "source": [
    "save_path = INTERIM_DATA_DIR / \"companies_lemma_short_description.csv\"\n",
    "companies_df.to_csv(save_path, index=False)"
   ]
  }
 ],
 "metadata": {
  "kernelspec": {
   "display_name": ".venv",
   "language": "python",
   "name": "python3"
  },
  "language_info": {
   "codemirror_mode": {
    "name": "ipython",
    "version": 3
   },
   "file_extension": ".py",
   "mimetype": "text/x-python",
   "name": "python",
   "nbconvert_exporter": "python",
   "pygments_lexer": "ipython3",
   "version": "3.12.11"
  }
 },
 "nbformat": 4,
 "nbformat_minor": 5
}
