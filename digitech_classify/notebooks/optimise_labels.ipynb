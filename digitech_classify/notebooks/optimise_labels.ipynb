{
 "cells": [
  {
   "cell_type": "code",
   "execution_count": 9,
   "id": "53e0d5f1",
   "metadata": {},
   "outputs": [],
   "source": [
    "import pandas as pd\n",
    "import numpy as np\n",
    "import matplotlib.pyplot as plt\n",
    "import seaborn as sns\n",
    "import ast\n",
    "from collections import Counter\n",
    "from sklearn.preprocessing import MultiLabelBinarizer\n",
    "\n",
    "\n",
    "from digitech_classify.pipeline.config import DATA_DIR, PROCESSED_DATA_DIR\n",
    "from digitech_classify.pipeline.data_engineering.features import batch_lemmatize, nlp_fast\n"
   ]
  },
  {
   "cell_type": "code",
   "execution_count": 15,
   "id": "5c2c2dc9",
   "metadata": {},
   "outputs": [],
   "source": [
    "df = pd.read_excel(PROCESSED_DATA_DIR / \"mutlilabelled_training_set_enriched_v2.xlsx\")\n",
    "\n",
    "y_train = df[\"all_sectors\"]   \n"
   ]
  },
  {
   "cell_type": "code",
   "execution_count": 11,
   "id": "f28d015e",
   "metadata": {},
   "outputs": [
    {
     "name": "stdout",
     "output_type": "stream",
     "text": [
      "Companies DataFrame shape: (107335, 5)\n",
      "Unique labels in 'keyword': 1627\n"
     ]
    }
   ],
   "source": [
    "companies_df = pd.read_csv(PROCESSED_DATA_DIR / \"company_tagged_all-MiniLM-L6-v2.csv\")\n",
    "print(\"Companies DataFrame shape:\", companies_df.shape)\n",
    "print(\"Unique labels in 'keyword':\", companies_df['keyword'].nunique())\n"
   ]
  },
  {
   "cell_type": "code",
   "execution_count": 25,
   "id": "f02d69d7",
   "metadata": {},
   "outputs": [],
   "source": [
    "parsed_labels = y_train.apply(lambda x: list(ast.literal_eval(x)))\n",
    "mlb = MultiLabelBinarizer()\n",
    "y_encoded = mlb.fit_transform(parsed_labels)\n"
   ]
  },
  {
   "cell_type": "code",
   "execution_count": null,
   "id": "2c5e6c99",
   "metadata": {},
   "outputs": [],
   "source": [
    "print(\"Encoded labels shape:\", y_encoded.shape)\n",
    "print(\"Classes:\", mlb.classes_)"
   ]
  },
  {
   "cell_type": "code",
   "execution_count": null,
   "id": "07a0d6f7",
   "metadata": {},
   "outputs": [],
   "source": [
    "\n",
    "label_counts = pd.Series(y_encoded.sum(axis=0), index=mlb.classes_).sort_values(ascending=False)\n",
    "\n",
    "# bar plot + threshold\n",
    "ax = label_counts.plot(kind='barh', figsize=(8,5))\n",
    "ax.axvline(500, ls='--', lw=1, label='500-positive floor')\n",
    "plt.legend()\n",
    "plt.gca().invert_yaxis()\n",
    "plt.title('Current positive counts per label')\n",
    "plt.show()\n"
   ]
  },
  {
   "cell_type": "code",
   "execution_count": 6,
   "id": "bf7b3732",
   "metadata": {},
   "outputs": [
    {
     "name": "stderr",
     "output_type": "stream",
     "text": [
      "Processing texts: 100%|██████████| 2057/2057 [00:00<00:00, 9053.85it/s] \n"
     ]
    }
   ],
   "source": [
    "kw_df = pd.read_excel(DATA_DIR / \"keywords_combined_digital/Keywords_Combined.xlsx\", sheet_name=\"Sheet1\")\n",
    "kw_df['Keyword'] = kw_df['Keyword'].astype(str).str.strip().str.lower()\n",
    "kw_df = kw_df[kw_df['yes/no'] == 'yes']\n",
    "kw_df = kw_df.drop(columns=['yes/no', 'Subcluster', 'Cluster'])\n",
    "kw_df['Sector'] = kw_df['Sector'].astype(str).str.strip().str.lower()\n",
    "\n",
    "kw_df['keywords_lemma'] = batch_lemmatize(\n",
    "    kw_df['Keyword'].tolist(), model=nlp_fast, batch_size=5000\n",
    ")"
   ]
  },
  {
   "cell_type": "code",
   "execution_count": 7,
   "id": "e6611ac8",
   "metadata": {},
   "outputs": [],
   "source": [
    "# Merge companies_df with kw_df to add sector information\n",
    "companies_df = companies_df.merge(\n",
    "    kw_df[['keywords_lemma', 'Sector']], \n",
    "    left_on='keyword', \n",
    "    right_on='keywords_lemma', \n",
    "    how='left'\n",
    ")\n",
    "\n",
    "# Drop the redundant keywords_lemma column\n",
    "companies_df = companies_df.drop(columns=['keywords_lemma'])\n"
   ]
  },
  {
   "cell_type": "code",
   "execution_count": null,
   "id": "8a96a7ac",
   "metadata": {},
   "outputs": [],
   "source": [
    "quantum_df = companies_df[\n",
    "    (companies_df['similarity'] >= 0.65) & \n",
    "    (companies_df['Sector'].str.contains('quantum technologies', case=False, na=False))\n",
    "]\n",
    "\n",
    "\n",
    "print(quantum_df.head())"
   ]
  },
  {
   "cell_type": "code",
   "execution_count": null,
   "id": "a8a6f2f0",
   "metadata": {
    "vscode": {
     "languageId": "javascript"
    }
   },
   "outputs": [],
   "source": [
    "quantum_df = quantum_df.groupby('org_ID').agg({\n",
    "    'organisation_name': 'first',\n",
    "    'keyword': list,\n",
    "    'similarity': list,\n",
    "    'search_text': 'first'\n",
    "}).reset_index()\n",
    "\n"
   ]
  },
  {
   "cell_type": "code",
   "execution_count": null,
   "id": "7686b296",
   "metadata": {},
   "outputs": [],
   "source": [
    "HPC_df = companies_df[\n",
    "    (companies_df['similarity'] >= 0.7) & \n",
    "    (companies_df['Sector'].str.contains('high performance computing', case=False, na=False))\n",
    "]\n",
    "\n",
    "HPC_df = HPC_df.groupby('org_ID').agg({\n",
    "    'organisation_name': 'first',\n",
    "    'keyword': list,\n",
    "    'similarity': list,\n",
    "    'search_text': 'first'\n",
    "}).reset_index()\n",
    "\n"
   ]
  },
  {
   "cell_type": "code",
   "execution_count": null,
   "id": "e7d7df7d",
   "metadata": {},
   "outputs": [],
   "source": [
    "robotics_df = companies_df[\n",
    "    (companies_df['similarity'] >= 0.7) & \n",
    "    (companies_df['Sector'].str.contains('robotics', case=False, na=False))\n",
    "]\n",
    "\n",
    "robotics_df = robotics_df.groupby('org_ID').agg({\n",
    "    'organisation_name': 'first',\n",
    "    'keyword': list,\n",
    "    'similarity': list,\n",
    "    'search_text': 'first'\n",
    "}).reset_index()\n",
    "\n"
   ]
  },
  {
   "cell_type": "code",
   "execution_count": null,
   "id": "33b8ee87",
   "metadata": {},
   "outputs": [],
   "source": [
    "robotics_df['sector'] = 'robotics'\n",
    "HPC_df['sector'] = 'high performance computing'"
   ]
  },
  {
   "cell_type": "code",
   "execution_count": 8,
   "id": "e3c51902",
   "metadata": {},
   "outputs": [],
   "source": [
    "semiconductor_df = companies_df[\n",
    "    (companies_df['similarity'] >= 0.7) & \n",
    "    (companies_df['Sector'].str.contains('microelectronics and semiconductors', case=False, na=False))\n",
    "]\n",
    "\n",
    "semiconductor_df = semiconductor_df.groupby('org_ID').agg({\n",
    "    'organisation_name': 'first',\n",
    "    'keyword': list,\n",
    "    'similarity': list,\n",
    "    'search_text': 'first'\n",
    "}).reset_index()"
   ]
  },
  {
   "cell_type": "code",
   "execution_count": null,
   "id": "0be74165",
   "metadata": {},
   "outputs": [],
   "source": [
    "# Add sector column to quantum_companies\n",
    "quantum_df['sector'] = 'quantum technologies'\n",
    "\n",
    "# Then combine all three sector dataframes\n",
    "sector_companies = pd.concat([robotics_df, HPC_df, quantum_df], ignore_index=True)\n",
    "print(\"Sector companies DataFrame shape:\", sector_companies.shape)"
   ]
  },
  {
   "cell_type": "code",
   "execution_count": null,
   "id": "fa8792d7",
   "metadata": {},
   "outputs": [],
   "source": [
    "# Add companies that are only in sector_companies but not in df\n",
    "sector_companies = sector_companies[~sector_companies['org_ID'].isin(df['org_ID'])].copy()\n"
   ]
  },
  {
   "cell_type": "code",
   "execution_count": null,
   "id": "09334f64",
   "metadata": {},
   "outputs": [],
   "source": [
    "semiconductor_tagged_df = pd.read_csv(PROCESSED_DATA_DIR / \"semiconductor_tagged_companies.csv\")\n"
   ]
  },
  {
   "cell_type": "code",
   "execution_count": 16,
   "id": "196a8097",
   "metadata": {},
   "outputs": [
    {
     "name": "stdout",
     "output_type": "stream",
     "text": [
      "Enrich DataFrame shape: (515, 5)\n"
     ]
    }
   ],
   "source": [
    "\n",
    "enrich_df = semiconductor_tagged_df[~semiconductor_tagged_df['org_ID'].isin(df['org_ID'])].copy()\n",
    "print(\"Enrich DataFrame shape:\", enrich_df.shape)"
   ]
  },
  {
   "cell_type": "code",
   "execution_count": 17,
   "id": "5a9dd713",
   "metadata": {},
   "outputs": [
    {
     "data": {
      "text/plain": [
       "(522, 5)"
      ]
     },
     "execution_count": 17,
     "metadata": {},
     "output_type": "execute_result"
    }
   ],
   "source": [
    "semiconductor_tagged_df.shape"
   ]
  },
  {
   "cell_type": "code",
   "execution_count": 19,
   "id": "55843d7d",
   "metadata": {},
   "outputs": [],
   "source": [
    "\n",
    "# Create a DataFrame with the same structure as df for sector-only companies\n",
    "sector_only_df = pd.DataFrame({\n",
    "    'org_ID': enrich_df ['org_ID'],\n",
    "    'organisation_name': enrich_df ['organisation_name'],\n",
    "    'all_sectors': enrich_df ['Sector'], \n",
    "    'search_text': enrich_df ['search_text'],\n",
    "})\n",
    "sector_only_df['all_sectors'] = sector_only_df['all_sectors'].apply(lambda x: {x})\n",
    "\n"
   ]
  },
  {
   "cell_type": "code",
   "execution_count": 20,
   "id": "a8fee46e",
   "metadata": {},
   "outputs": [],
   "source": [
    "sector_only_df = sector_only_df[sector_only_df['all_sectors'] != {'advanced digital communications and connectivity'}]"
   ]
  },
  {
   "cell_type": "code",
   "execution_count": 21,
   "id": "47fbb906",
   "metadata": {},
   "outputs": [],
   "source": [
    "\n",
    "# Combine the enriched df with sector-only companies\n",
    "df_enriched = pd.concat([df, sector_only_df], ignore_index=True)\n"
   ]
  },
  {
   "cell_type": "code",
   "execution_count": 22,
   "id": "9072edb6",
   "metadata": {},
   "outputs": [
    {
     "data": {
      "text/plain": [
       "(26437, 4)"
      ]
     },
     "execution_count": 22,
     "metadata": {},
     "output_type": "execute_result"
    }
   ],
   "source": [
    "df_enriched.shape"
   ]
  },
  {
   "cell_type": "code",
   "execution_count": 26,
   "id": "50fdf6d3",
   "metadata": {},
   "outputs": [],
   "source": [
    "# Parse and encode labels for the enriched dataset\n",
    "parsed_labels_enriched = df_enriched[\"all_sectors\"].apply(lambda x: list(x) if isinstance(x, set) else list(ast.literal_eval(x)))\n",
    "y_encoded_enriched = mlb.transform(parsed_labels_enriched)\n",
    "\n",
    "# Calculate label counts for enriched dataset\n",
    "label_counts_enriched = pd.Series(y_encoded_enriched.sum(axis=0), index=mlb.classes_).sort_values(ascending=False)\n"
   ]
  },
  {
   "cell_type": "code",
   "execution_count": 27,
   "id": "a40b575d",
   "metadata": {},
   "outputs": [
    {
     "data": {
      "image/png": "[encoded data removed]",
      "text/plain": [
       "<Figure size 1000x600 with 1 Axes>"
      ]
     },
     "metadata": {},
     "output_type": "display_data"
    }
   ],
   "source": [
    "\n",
    "# Create bar plot for enriched dataset\n",
    "ax = label_counts_enriched.plot(kind='barh', figsize=(10,6))\n",
    "ax.axvline(500, ls='--', lw=1, label='500-positive floor')\n",
    "plt.legend()\n",
    "plt.gca().invert_yaxis()\n",
    "plt.title('Label Counts per Sector in Enriched Dataset')\n",
    "plt.xlabel('Count')\n",
    "plt.ylabel('Sector')\n",
    "plt.tight_layout()\n",
    "plt.show()\n"
   ]
  },
  {
   "cell_type": "code",
   "execution_count": 28,
   "id": "13615048",
   "metadata": {},
   "outputs": [],
   "source": [
    "save_path = PROCESSED_DATA_DIR / \"multilabelled_training_set_enriched_v2.csv\"\n",
    "df_enriched.to_csv(save_path, index=False)"
   ]
  }
 ],
 "metadata": {
  "kernelspec": {
   "display_name": ".venv",
   "language": "python",
   "name": "python3"
  },
  "language_info": {
   "codemirror_mode": {
    "name": "ipython",
    "version": 3
   },
   "file_extension": ".py",
   "mimetype": "text/x-python",
   "name": "python",
   "nbconvert_exporter": "python",
   "pygments_lexer": "ipython3",
   "version": "3.11.13"
  }
 },
 "nbformat": 4,
 "nbformat_minor": 5
}
