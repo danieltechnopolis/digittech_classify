{
 "cells": [
  {
   "cell_type": "code",
   "execution_count": null,
   "id": "96f0eb7b",
   "metadata": {},
   "outputs": [],
   "source": [
    "import sys\n",
    "sys.path.append(\"../../digitech_classify\")\n",
    "\n",
    "import numpy as np\n",
    "import pandas as pd\n",
    "import faiss\n",
    "from sklearn.preprocessing import normalize\n",
    "\n",
    "from digitech_classify.pipeline.config import INTERIM_DATA_DIR, PROCESSED_DATA_DIR, DATA_DIR\n",
    "from digitech_classify.pipeline.data_engineering.features import build_faiss_index, search_top_k, build_keyword_tag_df\n",
    "\n"
   ]
  },
  {
   "cell_type": "code",
   "execution_count": null,
   "id": "50564f07",
   "metadata": {},
   "outputs": [],
   "source": [
    "comp_data = np.load(INTERIM_DATA_DIR / \"negative_samples_embeddings.npz\", allow_pickle=True)\n",
    "company_vectors = comp_data[\"embeddings\"]\n",
    "org_ids = comp_data[\"org_ID\"]  \n",
    "\n",
    "print(company_vectors.dtype, company_vectors.shape, company_vectors.flags['C_CONTIGUOUS'])\n"
   ]
  },
  {
   "cell_type": "code",
   "execution_count": null,
   "id": "6279a736",
   "metadata": {},
   "outputs": [],
   "source": [
    "\n",
    "kw_data = np.load(INTERIM_DATA_DIR / \"keywords_embeddings_all-MiniLM-L6-v2.npz\", allow_pickle=True)\n",
    "keyword_vectors = kw_data[\"embeddings\"]\n",
    "keyword_texts = kw_data[\"keywords\"]\n",
    "\n",
    "print(keyword_vectors.dtype, keyword_vectors.shape, keyword_vectors.flags['C_CONTIGUOUS'])      "
   ]
  },
  {
   "cell_type": "code",
   "execution_count": null,
   "id": "5c536024",
   "metadata": {},
   "outputs": [],
   "source": [
    "faiss.normalize_L2(company_vectors)   \n",
    "faiss.normalize_L2(keyword_vectors) "
   ]
  },
  {
   "cell_type": "code",
   "execution_count": null,
   "id": "cf027dca",
   "metadata": {},
   "outputs": [],
   "source": [
    "\n",
    "keyword_index = build_faiss_index(keyword_vectors)"
   ]
  },
  {
   "cell_type": "code",
   "execution_count": null,
   "id": "a373da16",
   "metadata": {},
   "outputs": [],
   "source": [
    "TOP_K = 5\n",
    "D, I = search_top_k(keyword_index, company_vectors, top_k=TOP_K, batch_size=10000)\n",
    "print(\"Similarity search shapes:\", D.shape, I.shape)   # num_companies and TOP_K results"
   ]
  },
  {
   "cell_type": "code",
   "execution_count": null,
   "id": "94e9e175",
   "metadata": {},
   "outputs": [],
   "source": [
    "tagged_df = build_keyword_tag_df(D, I, org_ids, keyword_texts, sim_threshold=0.45)\n",
    "print(tagged_df.head())\n"
   ]
  },
  {
   "cell_type": "code",
   "execution_count": null,
   "id": "3359b5f8",
   "metadata": {},
   "outputs": [],
   "source": [
    "tagged_df.shape"
   ]
  },
  {
   "cell_type": "code",
   "execution_count": null,
   "id": "16ca9974",
   "metadata": {},
   "outputs": [],
   "source": [
    "company_path = INTERIM_DATA_DIR / \"cleaned_companies_text.csv\"\n",
    "descriptions_df = pd.read_csv(company_path, usecols=['org_ID','organisation_name', 'search_text'])  \n",
    "print(descriptions_df.columns.to_list())"
   ]
  },
  {
   "cell_type": "code",
   "execution_count": null,
   "id": "b6958729",
   "metadata": {},
   "outputs": [],
   "source": [
    "tagged_df = tagged_df.merge(descriptions_df, on='org_ID', how='inner')\n",
    "\n",
    "print(tagged_df.shape)"
   ]
  },
  {
   "cell_type": "code",
   "execution_count": null,
   "id": "50aa36fe",
   "metadata": {},
   "outputs": [],
   "source": [
    "kw_df = pd.read_excel(DATA_DIR / \"keywords_combined_digital/Keywords_Combined.xlsx\", sheet_name=\"Sheet1\")\n",
    "kw_df['Keyword'] = kw_df['Keyword'].astype(str).str.strip().str.lower()\n",
    "kw_df = kw_df[kw_df['yes/no'] == 'yes']\n",
    "kw_df = kw_df.drop(columns=['yes/no', 'Subcluster', 'Cluster'])\n",
    "kw_df['Sector'] = kw_df['Sector'].astype(str).str.strip().str.lower()"
   ]
  },
  {
   "cell_type": "code",
   "execution_count": null,
   "id": "5298b957",
   "metadata": {},
   "outputs": [],
   "source": [
    "tagged_df = tagged_df.merge(kw_df[['Keyword', 'Sector']], left_on='keyword', right_on='Keyword', how='left')"
   ]
  },
  {
   "cell_type": "code",
   "execution_count": null,
   "id": "86789ab1",
   "metadata": {},
   "outputs": [],
   "source": [
    "tagged_df_filtered = tagged_df[tagged_df['similarity'] > 0.60]\n",
    "print(f\"Filtered shape: {tagged_df_filtered.shape}\")\n",
    "print(f\"Original shape: {tagged_df.shape}\")"
   ]
  },
  {
   "cell_type": "code",
   "execution_count": null,
   "id": "2253ed93",
   "metadata": {},
   "outputs": [],
   "source": [
    "unique_keywords = tagged_df_filtered['keyword'].unique().tolist()\n",
    "\n",
    "print(unique_keywords)"
   ]
  },
  {
   "cell_type": "code",
   "execution_count": null,
   "id": "ac69c0c2",
   "metadata": {},
   "outputs": [],
   "source": [
    "save_path = PROCESSED_DATA_DIR / \"company_tagged_all-MiniLM-L6-v2.csv\"\n",
    "tagged_df.to_csv(save_path, index=False)"
   ]
  }
 ],
 "metadata": {
  "kernelspec": {
   "display_name": ".venv",
   "language": "python",
   "name": "python3"
  },
  "language_info": {
   "codemirror_mode": {
    "name": "ipython",
    "version": 3
   },
   "file_extension": ".py",
   "mimetype": "text/x-python",
   "name": "python",
   "nbconvert_exporter": "python",
   "pygments_lexer": "ipython3",
   "version": "3.11.13"
  }
 },
 "nbformat": 4,
 "nbformat_minor": 5
}
