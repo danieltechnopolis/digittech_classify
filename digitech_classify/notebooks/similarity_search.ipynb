{
 "cells": [
  {
   "cell_type": "code",
   "execution_count": null,
   "id": "96f0eb7b",
   "metadata": {},
   "outputs": [],
   "source": [
    "import sys\n",
    "sys.path.append(\"../../digitech_classify\")\n",
    "\n",
    "import numpy as np\n",
    "import pandas as pd\n",
    "import faiss\n",
    "from sklearn.decomposition import PCA\n",
    "from matplotlib import pyplot as plt \n",
    "import seaborn as sns\n",
    "from mpl_toolkits.mplot3d import Axes3D\n",
    "\n",
    "\n",
    "from digitech_classify.pipeline.config import INTERIM_DATA_DIR, PROCESSED_DATA_DIR, DATA_DIR\n",
    "from digitech_classify.pipeline.data_engineering.features import build_faiss_index, search_top_k, build_keyword_tag_df, apply_sector_threshold, pool_embeddings\n",
    "\n"
   ]
  },
  {
   "cell_type": "code",
   "execution_count": null,
   "id": "50564f07",
   "metadata": {},
   "outputs": [],
   "source": [
    "company_path = INTERIM_DATA_DIR / \"cleaned_companies_text.csv\"\n",
    "descriptions_df = pd.read_csv(company_path, usecols=['org_ID','organisation_name', 'search_text'])  \n",
    "\n",
    "kw_df = pd.read_excel(DATA_DIR / \"keywords_combined_digital/Keywords_Combined_v2.xlsx\", sheet_name=\"Sheet1\")\n",
    "\n",
    "\n",
    "comp_data = np.load(PROCESSED_DATA_DIR / \"company_embeddings_mpnet.npz\", allow_pickle=True)\n",
    "company_vectors = comp_data[\"embeddings\"]\n",
    "org_ids = comp_data[\"org_ID\"]  \n",
    "\n",
    "print(company_vectors.dtype, company_vectors.shape, company_vectors.flags['C_CONTIGUOUS'])\n",
    "\n",
    "\n",
    "kw_data = np.load(INTERIM_DATA_DIR / \"keywords_semantic_all-mpnet-base-v2.npz\", allow_pickle=True)\n",
    "keyword_vectors = kw_data[\"embeddings\"]\n",
    "keyword_texts = kw_data[\"keywords\"]\n",
    "\n",
    "print(keyword_vectors.dtype, keyword_vectors.shape, keyword_vectors.flags['C_CONTIGUOUS'])      \n",
    "\n",
    "faiss.normalize_L2(company_vectors)   \n",
    "faiss.normalize_L2(keyword_vectors) \n",
    "keyword_index = build_faiss_index(keyword_vectors)"
   ]
  },
  {
   "cell_type": "code",
   "execution_count": null,
   "id": "a373da16",
   "metadata": {},
   "outputs": [],
   "source": [
    "TOP_K = 20\n",
    "D, I = search_top_k(keyword_index, company_vectors, top_k=TOP_K, batch_size=10000)\n",
    "print(\"Similarity search shapes:\", D.shape, I.shape)   # num_companies and TOP_K results"
   ]
  },
  {
   "cell_type": "code",
   "execution_count": null,
   "id": "94e9e175",
   "metadata": {},
   "outputs": [],
   "source": [
    "tagged_df = build_keyword_tag_df(D, I, org_ids, keyword_texts, sim_threshold=0.4)\n",
    "print(tagged_df.head())\n",
    "tagged_df.shape"
   ]
  },
  {
   "cell_type": "code",
   "execution_count": null,
   "id": "f77d6aa7",
   "metadata": {},
   "outputs": [],
   "source": [
    "unique_companies = tagged_df['org_ID'].nunique()\n",
    "print(\"Number of unique companies:\", unique_companies)"
   ]
  },
  {
   "cell_type": "code",
   "execution_count": null,
   "id": "b6958729",
   "metadata": {},
   "outputs": [],
   "source": [
    "tagged_df = tagged_df.merge(descriptions_df, on='org_ID', how='inner')\n",
    "print(tagged_df.shape)"
   ]
  },
  {
   "cell_type": "code",
   "execution_count": null,
   "id": "50aa36fe",
   "metadata": {},
   "outputs": [],
   "source": [
    "kw_df['Keyword'] = kw_df['Keyword'].astype(str).str.strip().str.lower()\n",
    "kw_df = kw_df[kw_df['yes/no'] == 'yes']\n",
    "kw_df = kw_df.drop(columns=['yes/no'])\n",
    "kw_df['sector'] = kw_df['sector'].astype(str).str.strip().str.lower()\n",
    "\n",
    "\n",
    "kw_map = dict(zip(kw_df['semantic search'], kw_df['sector']))\n",
    "sectors = [kw_map.get(k, 'other') for k in keyword_texts]\n",
    "unique_sectors = sorted(set(sectors))\n",
    "sector_vectors, sector_names = [], []"
   ]
  },
  {
   "cell_type": "code",
   "execution_count": null,
   "id": "f8c7ad5b",
   "metadata": {},
   "outputs": [],
   "source": [
    "sector_vectors, sector_names = pool_embeddings(keyword_vectors, sectors)"
   ]
  },
  {
   "cell_type": "code",
   "execution_count": null,
   "id": "5298b957",
   "metadata": {},
   "outputs": [],
   "source": [
    "tagged_df = tagged_df.merge(kw_df[['semantic search', 'Keyword', 'sector']], left_on='keyword', right_on='semantic search', how='left')\n",
    "print(tagged_df.shape)"
   ]
  },
  {
   "cell_type": "code",
   "execution_count": null,
   "id": "19ebde1d",
   "metadata": {},
   "outputs": [],
   "source": [
    "tagged_df = tagged_df.drop(columns=['keyword'])"
   ]
  },
  {
   "cell_type": "code",
   "execution_count": null,
   "id": "d045ddfd",
   "metadata": {},
   "outputs": [],
   "source": [
    "sector_counts_table = tagged_df['sector'].value_counts().reset_index()\n",
    "sector_counts_table.columns = ['sector', 'count']\n",
    "print(sector_counts_table)\n",
    "\n",
    "sector_company = tagged_df.groupby('sector')['org_ID'].nunique().reset_index()\n",
    "sector_company.columns = ['sector', 'unique_company_count']\n",
    "print(sector_company)"
   ]
  },
  {
   "cell_type": "code",
   "execution_count": null,
   "id": "9ce1a8fd",
   "metadata": {},
   "outputs": [],
   "source": [
    "tagged_df = tagged_df[tagged_df.apply(apply_sector_threshold, axis=1)]\n",
    "sector_counts_post_filter = tagged_df['sector'].value_counts()\n",
    "print(sector_counts_post_filter)"
   ]
  },
  {
   "cell_type": "code",
   "execution_count": null,
   "id": "b2373fb3",
   "metadata": {},
   "outputs": [],
   "source": [
    "tagged_df_unique = tagged_df.drop_duplicates(subset=['org_ID', 'sector']).reset_index(drop=True)"
   ]
  },
  {
   "cell_type": "code",
   "execution_count": null,
   "id": "e553ee58",
   "metadata": {},
   "outputs": [],
   "source": [
    "sector_counts = tagged_df_unique.groupby('org_ID')['sector'].nunique()\n",
    "print(sector_counts)\n"
   ]
  },
  {
   "cell_type": "code",
   "execution_count": null,
   "id": "a371d2a8",
   "metadata": {},
   "outputs": [],
   "source": [
    "multi_sector_companies = (\n",
    "    tagged_df_unique\n",
    "    .drop_duplicates(subset=['org_ID', 'sector'])      # remove duplicates within sector first\n",
    "    .assign(sector_count=lambda d: d.groupby('org_ID')['sector'].transform('nunique'))\n",
    "    .query('sector_count > 1')                         # filter companies in multiple sectors\n",
    "    .drop(columns='sector_count')                     # drop helper column\n",
    "    .reset_index(drop=True)\n",
    ")"
   ]
  },
  {
   "cell_type": "code",
   "execution_count": null,
   "id": "1c7e2d11",
   "metadata": {},
   "outputs": [],
   "source": [
    "avg_similarity_per_sector = tagged_df.groupby('sector')['similarity'].mean().reset_index()\n",
    "avg_similarity_per_sector = avg_similarity_per_sector.sort_values(by='similarity', ascending=False)\n",
    "print(avg_similarity_per_sector)"
   ]
  },
  {
   "cell_type": "code",
   "execution_count": null,
   "id": "8aa7c1dd",
   "metadata": {},
   "outputs": [],
   "source": [
    "save_path_1 = PROCESSED_DATA_DIR / \"company_tagged_mpnet.xlsx\"\n",
    "tagged_df_unique.to_excel(save_path_1, index=False)\n",
    "\n",
    "\n",
    "save_path_2 = PROCESSED_DATA_DIR / \"company_tagged_mpnet_multi_sector.xlsx\"\n",
    "multi_sector_companies.to_excel(save_path_2, index=False)"
   ]
  }
 ],
 "metadata": {
  "kernelspec": {
   "display_name": ".venv",
   "language": "python",
   "name": "python3"
  },
  "language_info": {
   "codemirror_mode": {
    "name": "ipython",
    "version": 3
   },
   "file_extension": ".py",
   "mimetype": "text/x-python",
   "name": "python",
   "nbconvert_exporter": "python",
   "pygments_lexer": "ipython3",
   "version": "3.11.13"
  }
 },
 "nbformat": 4,
 "nbformat_minor": 5
}
