{
 "cells": [
  {
   "cell_type": "code",
   "execution_count": null,
   "id": "96f0eb7b",
   "metadata": {},
   "outputs": [],
   "source": [
    "import sys\n",
    "sys.path.append(\"../../digitech_classify\")\n",
    "\n",
    "import numpy as np\n",
    "import pandas as pd\n",
    "import faiss\n",
    "from sklearn.preprocessing import normalize\n",
    "\n",
    "from digitech_classify.config import INTERIM_DATA_DIR, PROCESSED_DATA_DIR\n",
    "from digitech_classify.features import build_faiss_index, search_top_k, build_keyword_tag_df\n",
    "\n"
   ]
  },
  {
   "cell_type": "code",
   "execution_count": null,
   "id": "50564f07",
   "metadata": {},
   "outputs": [],
   "source": [
    "comp_data = np.load(INTERIM_DATA_DIR / \"company_embeddings_all-MiniLM-L6-v2.npz\", allow_pickle=True)\n",
    "company_vectors = comp_data[\"embeddings\"]\n",
    "org_ids = comp_data[\"org_ID\"]  \n",
    "\n",
    "print(company_vectors.dtype, company_vectors.shape, company_vectors.flags['C_CONTIGUOUS'])\n"
   ]
  },
  {
   "cell_type": "code",
   "execution_count": null,
   "id": "6279a736",
   "metadata": {},
   "outputs": [],
   "source": [
    "\n",
    "kw_data = np.load(INTERIM_DATA_DIR / \"keywords_embeddings_all-MiniLM-L6-v2.npz\", allow_pickle=True)\n",
    "keyword_vectors = kw_data[\"embeddings\"]\n",
    "keyword_texts = kw_data[\"keywords\"]\n",
    "\n",
    "print(keyword_vectors.dtype, keyword_vectors.shape, keyword_vectors.flags['C_CONTIGUOUS'])      "
   ]
  },
  {
   "cell_type": "code",
   "execution_count": null,
   "id": "5c536024",
   "metadata": {},
   "outputs": [],
   "source": [
    "faiss.normalize_L2(company_vectors)   \n",
    "faiss.normalize_L2(keyword_vectors) "
   ]
  },
  {
   "cell_type": "code",
   "execution_count": null,
   "id": "cf027dca",
   "metadata": {},
   "outputs": [],
   "source": [
    "\n",
    "keyword_index = build_faiss_index(keyword_vectors)"
   ]
  },
  {
   "cell_type": "code",
   "execution_count": null,
   "id": "a373da16",
   "metadata": {},
   "outputs": [],
   "source": [
    "TOP_K = 5\n",
    "D, I = search_top_k(keyword_index, company_vectors, top_k=TOP_K, batch_size=10000)\n",
    "print(\"Similarity search shapes:\", D.shape, I.shape)   # num_companies and TOP_K results"
   ]
  },
  {
   "cell_type": "code",
   "execution_count": null,
   "id": "94e9e175",
   "metadata": {},
   "outputs": [],
   "source": [
    "tagged_df = build_keyword_tag_df(D, I, org_ids, keyword_texts, sim_threshold=0.6)\n",
    "print(tagged_df.head())"
   ]
  },
  {
   "cell_type": "code",
   "execution_count": null,
   "id": "3359b5f8",
   "metadata": {},
   "outputs": [],
   "source": [
    "tagged_df.shape"
   ]
  },
  {
   "cell_type": "code",
   "execution_count": null,
   "id": "16ca9974",
   "metadata": {},
   "outputs": [],
   "source": [
    "company_path = INTERIM_DATA_DIR / \"cleaned_companies_text.csv\"\n",
    "descriptions_df = pd.read_csv(company_path, usecols=['org_ID','organisation_name', 'search_text'])  \n",
    "print(descriptions_df.columns.to_list())"
   ]
  },
  {
   "cell_type": "code",
   "execution_count": null,
   "id": "b6958729",
   "metadata": {},
   "outputs": [],
   "source": [
    "tagged_df = tagged_df.merge(descriptions_df, on='org_ID', how='inner')"
   ]
  },
  {
   "cell_type": "code",
   "execution_count": null,
   "id": "ac69c0c2",
   "metadata": {},
   "outputs": [],
   "source": [
    "save_path = PROCESSED_DATA_DIR / \"company_tagged_all-MiniLM-L6-v2.csv\"\n",
    "tagged_df.to_csv(save_path, index=False)"
   ]
  }
 ],
 "metadata": {
  "kernelspec": {
   "display_name": ".venv",
   "language": "python",
   "name": "python3"
  },
  "language_info": {
   "codemirror_mode": {
    "name": "ipython",
    "version": 3
   },
   "file_extension": ".py",
   "mimetype": "text/x-python",
   "name": "python",
   "nbconvert_exporter": "python",
   "pygments_lexer": "ipython3",
   "version": "3.12.11"
  }
 },
 "nbformat": 4,
 "nbformat_minor": 5
}
