{
 "cells": [
  {
   "cell_type": "code",
   "execution_count": 1,
   "id": "a58530cf",
   "metadata": {},
   "outputs": [],
   "source": [
    "import sys\n",
    "sys.path.append(\"../../digitech_classify\")\n",
    "\n",
    "import pandas as pd\n",
    "import numpy as np\n",
    "\n",
    "from digitech_classify.config import INTERIM_DATA_DIR\n",
    "from digitech_classify.features import get_embedding_model, embed_texts"
   ]
  },
  {
   "cell_type": "code",
   "execution_count": null,
   "id": "b95ab7f1",
   "metadata": {},
   "outputs": [],
   "source": [
    "df = pd.read_csv(INTERIM_DATA_DIR / \"companies_lemma_short_description.csv\")\n"
   ]
  },
  {
   "cell_type": "code",
   "execution_count": null,
   "id": "fe035eaa",
   "metadata": {},
   "outputs": [],
   "source": [
    "df = df.dropna(subset=['features_lemma'])\n",
    "org_ids = df['org_ID'].tolist()\n",
    "text = df['features_lemma'].tolist()\n",
    "embedding_model = get_embedding_model()\n",
    "embeddings = embed_texts(text, model=embedding_model, batch_size=1000)"
   ]
  },
  {
   "cell_type": "code",
   "execution_count": null,
   "id": "b20b3c95",
   "metadata": {},
   "outputs": [],
   "source": [
    "save_path = INTERIM_DATA_DIR / 'company_spacey_embeddings_short.npz'\n",
    "np.savez( save_path, vectors=embeddings, org_ids=np.array(org_ids))\n",
    "\n",
    "\n"
   ]
  }
 ],
 "metadata": {
  "kernelspec": {
   "display_name": ".venv",
   "language": "python",
   "name": "python3"
  },
  "language_info": {
   "codemirror_mode": {
    "name": "ipython",
    "version": 3
   },
   "file_extension": ".py",
   "mimetype": "text/x-python",
   "name": "python",
   "nbconvert_exporter": "python",
   "pygments_lexer": "ipython3",
   "version": "3.12.11"
  }
 },
 "nbformat": 4,
 "nbformat_minor": 5
}
