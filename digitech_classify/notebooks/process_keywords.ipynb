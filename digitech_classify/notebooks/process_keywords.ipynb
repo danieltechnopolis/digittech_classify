{
 "cells": [
  {
   "cell_type": "code",
   "execution_count": null,
   "id": "413efe71",
   "metadata": {},
   "outputs": [],
   "source": [
    "import sys\n",
    "sys.path.append(\"../../digitech_classify\")\n",
    "\n",
    "from digitech_classify.config import DATA_DIR, INTERIM_DATA_DIR\n",
    "from digitech_classify.features import batch_lemmatize, nlp_fast, nlp_full\n",
    "import pandas as pd\n",
    "\n",
    "\n"
   ]
  },
  {
   "cell_type": "code",
   "execution_count": null,
   "id": "77f7e691",
   "metadata": {},
   "outputs": [],
   "source": [
    "kw_df = pd.read_excel(DATA_DIR / \"keywords_combined_digital/Keywords_Combined.xlsx\", sheet_name=\"Sheet1\")\n",
    " "
   ]
  },
  {
   "cell_type": "code",
   "execution_count": null,
   "id": "35a73fca",
   "metadata": {},
   "outputs": [],
   "source": [
    "kw_df['Keyword'] = kw_df['Keyword'].astype(str).str.strip().str.lower()\n",
    "kw_df = kw_df[kw_df['yes/no'] == 'yes']\n",
    "kw_df = kw_df.drop(columns=['yes/no', 'Subcluster', 'Cluster'])\n",
    "kw_df['Sector'] = kw_df['Sector'].astype(str).str.strip().str.lower()"
   ]
  },
  {
   "cell_type": "code",
   "execution_count": null,
   "id": "0f0e11bd",
   "metadata": {},
   "outputs": [],
   "source": [
    "\n",
    "kw_df['keywords_lemma'] = batch_lemmatize(\n",
    "    kw_df['Keyword'].tolist(), model=nlp_fast, batch_size=5000\n",
    ")"
   ]
  },
  {
   "cell_type": "code",
   "execution_count": null,
   "id": "3d7f4841",
   "metadata": {},
   "outputs": [],
   "source": [
    "save_path = INTERIM_DATA_DIR / \"keywords_lemma.csv\"\n",
    "kw_df.to_csv(save_path, index=False)"
   ]
  }
 ],
 "metadata": {
  "kernelspec": {
   "display_name": ".venv",
   "language": "python",
   "name": "python3"
  },
  "language_info": {
   "codemirror_mode": {
    "name": "ipython",
    "version": 3
   },
   "file_extension": ".py",
   "mimetype": "text/x-python",
   "name": "python",
   "nbconvert_exporter": "python",
   "pygments_lexer": "ipython3",
   "version": "3.12.11"
  }
 },
 "nbformat": 4,
 "nbformat_minor": 5
}
