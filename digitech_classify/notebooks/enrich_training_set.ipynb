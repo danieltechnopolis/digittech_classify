{
 "cells": [
  {
   "cell_type": "code",
   "execution_count": 1,
   "id": "b0e4cdd3",
   "metadata": {},
   "outputs": [],
   "source": [
    "import sys\n",
    "sys.path.append(\"../../digitech_classify\")\n",
    "\n",
    "import pandas as pd\n",
    "from digitech_classify.features import get_spacy_models, batch_lemmatize\n",
    "from digitech_classify.config import PROCESSED_DATA_DIR, DATA_DIR, RAW_DATA_DIR\n",
    "\n",
    "\n"
   ]
  },
  {
   "cell_type": "code",
   "execution_count": 2,
   "id": "e394de55",
   "metadata": {},
   "outputs": [],
   "source": [
    "df = pd.read_csv(PROCESSED_DATA_DIR / 'company_tagged_all-MiniLM-L6-v2.csv')\n",
    "keyword_sector_mapping = pd.read_excel(DATA_DIR / 'keywords_combined_digital/Keywords_Combined.xlsx', sheet_name='Sheet1')\n",
    "glass_AI = pd.read_excel(PROCESSED_DATA_DIR / 'glassAI_crunchbase_overlap.xlsx')\n"
   ]
  },
  {
   "cell_type": "code",
   "execution_count": 3,
   "id": "55f8e734",
   "metadata": {},
   "outputs": [
    {
     "name": "stdout",
     "output_type": "stream",
     "text": [
      "(107335, 5)\n"
     ]
    }
   ],
   "source": [
    "print(df.shape)"
   ]
  },
  {
   "cell_type": "code",
   "execution_count": 4,
   "id": "6bc62275",
   "metadata": {},
   "outputs": [],
   "source": [
    "keyword_sector_mapping = keyword_sector_mapping.drop(columns=['Cluster', 'Subcluster'])\n",
    "keyword_sector_mapping = keyword_sector_mapping[keyword_sector_mapping['yes/no'] == 'yes']\n",
    "keyword_sector_mapping = keyword_sector_mapping.drop(columns=['yes/no'])\n",
    "keyword_sector_mapping['Keyword'] = keyword_sector_mapping['Keyword'].str.lower().str.strip()"
   ]
  },
  {
   "cell_type": "code",
   "execution_count": 5,
   "id": "28e28c2d",
   "metadata": {},
   "outputs": [
    {
     "name": "stderr",
     "output_type": "stream",
     "text": [
      "Processing texts: 100%|██████████| 2057/2057 [00:00<00:00, 10120.44it/s]\n"
     ]
    }
   ],
   "source": [
    "model = get_spacy_models()\n",
    "\n",
    "keyword_sector_mapping['Keyword_lemmatized'] = batch_lemmatize(keyword_sector_mapping['Keyword'].fillna(''))\n"
   ]
  },
  {
   "cell_type": "code",
   "execution_count": 6,
   "id": "df078ee0",
   "metadata": {},
   "outputs": [],
   "source": [
    "\n",
    "df_filtered_companies = df[df['similarity'] >= 0.6]\n",
    "\n",
    "\n",
    "df_filtered_companies = df_filtered_companies.merge(\n",
    "    keyword_sector_mapping,\n",
    "    left_on='keyword',\n",
    "    right_on='Keyword_lemmatized',\n",
    "    how='left'\n",
    ")\n",
    "\n"
   ]
  },
  {
   "cell_type": "code",
   "execution_count": 7,
   "id": "a62da5f2",
   "metadata": {},
   "outputs": [
    {
     "name": "stdout",
     "output_type": "stream",
     "text": [
      "(68040, 8)\n"
     ]
    }
   ],
   "source": [
    "df_unique_companies_by_sector = df_filtered_companies.groupby(['Sector', 'organisation_name'], as_index=False).first()\n",
    "df_filtered_companies_sector_group = df_unique_companies_by_sector.groupby('Sector').size().reset_index(name='count') \n",
    "print(df_unique_companies_by_sector.shape)"
   ]
  },
  {
   "cell_type": "code",
   "execution_count": 8,
   "id": "e679e8bd",
   "metadata": {},
   "outputs": [],
   "source": [
    "df_unique_companies_by_sector = df_unique_companies_by_sector.drop(columns=['keyword', 'Keyword_lemmatized'])"
   ]
  },
  {
   "cell_type": "code",
   "execution_count": null,
   "id": "965f165a",
   "metadata": {},
   "outputs": [
    {
     "name": "stdout",
     "output_type": "stream",
     "text": [
      "['Artificial Intelligence', 'Blockchain', 'Cloud-edge-IoT', 'Cybersecurity', 'Data analytics', 'Photonics', 'Quantum technologies', 'Robotics', 'advanced digital communications and connectivity', 'high performance computing', 'next generation internet and extended reality', 'photonics']\n"
     ]
    }
   ],
   "source": [
    "sector_list = df_unique_companies_by_sector['Sector'].unique().tolist()\n",
    "df_unique_companies_by_sector['Sector'] = df_unique_companies_by_sector['Sector'].str.lower().str.strip()\n",
    "\n"
   ]
  },
  {
   "cell_type": "code",
   "execution_count": 11,
   "id": "827f2dfb",
   "metadata": {},
   "outputs": [],
   "source": [
    "sector_dfs = {sector: df_unique_companies_by_sector[df_unique_companies_by_sector['Sector'] == sector] for sector in sector_list}"
   ]
  },
  {
   "cell_type": "code",
   "execution_count": 12,
   "id": "efcf86af",
   "metadata": {},
   "outputs": [
    {
     "name": "stdout",
     "output_type": "stream",
     "text": [
      "Sector: Artificial Intelligence\n",
      "Sector: Blockchain\n",
      "Sector: Cloud-edge-IoT\n",
      "Sector: Cybersecurity\n",
      "Sector: Data analytics\n",
      "Sector: Photonics\n",
      "Sector: Quantum technologies\n",
      "Sector: Robotics\n",
      "Sector: advanced digital communications and connectivity\n",
      "Sector: high performance computing\n",
      "Sector: next generation internet and extended reality\n",
      "Sector: photonics\n"
     ]
    }
   ],
   "source": [
    "for sector, sector_df in sector_dfs.items():\n",
    "    print(f\"Sector: {sector}\")"
   ]
  },
  {
   "cell_type": "code",
   "execution_count": null,
   "id": "19dba90c",
   "metadata": {},
   "outputs": [],
   "source": [
    "df_unique_companies_by_sector.to_excel(DATA_DIR / 'sector_companies_enriched_agg.xlsx', index=False)\n"
   ]
  },
  {
   "cell_type": "code",
   "execution_count": 13,
   "id": "e40a4df7",
   "metadata": {},
   "outputs": [],
   "source": [
    "missing_companies = df_unique_companies_by_sector[~df_unique_companies_by_sector['org_ID'].isin(glass_AI['org_ID'])]\n",
    "\n",
    "glass_AI_enriched = pd.concat([glass_AI, missing_companies], ignore_index=True)"
   ]
  },
  {
   "cell_type": "code",
   "execution_count": 14,
   "id": "2eb86daf",
   "metadata": {},
   "outputs": [
    {
     "data": {
      "text/plain": [
       "(62745, 6)"
      ]
     },
     "execution_count": 14,
     "metadata": {},
     "output_type": "execute_result"
    }
   ],
   "source": [
    "missing_companies.shape "
   ]
  },
  {
   "cell_type": "code",
   "execution_count": 16,
   "id": "ee1813f9",
   "metadata": {
    "vscode": {
     "languageId": "ruby"
    }
   },
   "outputs": [],
   "source": [
    "glass_AI_enriched['sector'] = glass_AI_enriched['Sector'].combine_first(glass_AI_enriched['digital_sector'])\n",
    "glass_AI_enriched = glass_AI_enriched.drop(columns=['Sector', 'digital_sector', 'id_organization', 'keywords_mentioned', 'crawling_keywords_mentioned'])"
   ]
  },
  {
   "cell_type": "code",
   "execution_count": 17,
   "id": "03f2cc9b",
   "metadata": {},
   "outputs": [
    {
     "name": "stdout",
     "output_type": "stream",
     "text": [
      "['cloud-edge-iot' 'high performance computing' 'data analytics'\n",
      " 'advanced digital communications and connectivity' 'cybersecurity'\n",
      " 'artificial intelligence' 'blockchain' 'quantum technologies' 'robotics'\n",
      " 'photonics' 'next generation internet and extended reality' nan]\n"
     ]
    }
   ],
   "source": [
    "glass_AI_enriched['sector'] = glass_AI_enriched['sector'].str.lower().str.strip()\n",
    "print(glass_AI_enriched['sector'].unique())\n",
    "\n"
   ]
  },
  {
   "cell_type": "code",
   "execution_count": null,
   "id": "8fc19011",
   "metadata": {},
   "outputs": [
    {
     "name": "stdout",
     "output_type": "stream",
     "text": [
      "['cloud-edge-iot' 'high performance computing' 'data analytics'\n",
      " 'advanced digital communications and connectivity' 'cybersecurity'\n",
      " 'artificial intelligence' 'blockchain' 'quantum technologies' 'robotics'\n",
      " 'photonics' 'next generation internet and extended reality' nan]\n",
      "['cloud-edge-iot' 'high performance computing' 'data analytics'\n",
      " 'advanced digital communications and connectivity' 'cybersecurity'\n",
      " 'artificial intelligence' 'blockchain' 'quantum technologies' 'robotics'\n",
      " 'photonics' 'next generation internet and extended reality' nan\n",
      " 'microelectronics, high frequency chips and semiconductors']\n",
      "['Cloud to Edge to IoT' 'Data Analytics Technologies'\n",
      " 'Advanced Digital Communications and Connectivity' 'Cybersecurity'\n",
      " 'Artificial Intelligence' 'Advanced and High Performance Computing'\n",
      " 'Blockchain, Distributed Ledger and Digital Identity Technologies'\n",
      " 'Microelectronics, High Frequency Chips and Semiconductors'\n",
      " 'Next Generation Internet and Extended Reality' 'Quantum'\n",
      " 'Photonics Technologies' nan]\n"
     ]
    }
   ],
   "source": [
    "print(glass_AI_enriched['sector'].unique())\n",
    "sector_mapping = {\n",
    "    'Cloud to Edge to IoT': 'cloud-edge-iot',\n",
    "    'Data Analytics Technologies': 'data analytics',\n",
    "    'Artificial Intelligence': 'artificial intelligence',\n",
    "    'Blockchain Technologies': 'blockchain',\n",
    "    'Photonics Technologies': 'photonics',\n",
    "    'Quantum Technologies': 'quantum technologies',\n",
    "    'Robotics Technologies': 'robotics',\n",
    "    'Advanced Digital Communications and Connectivity': 'advanced digital communications and connectivity',\n",
    "    'High Performance Computing': 'high performance computing',\n",
    "    'Next Generation Internet and Extended Reality': 'next generation internet and extended reality',\n",
    "    'Microelectronics, High Frequency Chips and Semiconductors': 'microelectronics, high frequency chips and semiconductors'\n",
    "    \n",
    "}\n",
    "\n",
    "glass_AI_enriched['sector'] = glass_AI_enriched['sector'].combine_first(\n",
    "    glass_AI_enriched['digital_sector_glassAI'].map(sector_mapping)\n",
    ")\n",
    "print(glass_AI_enriched['sector'].unique())\n",
    "print(glass_AI_enriched['digital_sector_glassAI'].unique())"
   ]
  },
  {
   "cell_type": "code",
   "execution_count": 21,
   "id": "6ff5f4f2",
   "metadata": {},
   "outputs": [],
   "source": [
    "glass_AI_enriched['sector'] = glass_AI_enriched['sector'].fillna(glass_AI_enriched['digital_sector_glassAI'])\n",
    "glass_AI_enriched['sector'] = glass_AI_enriched['sector'].str.lower().str.strip()"
   ]
  },
  {
   "cell_type": "code",
   "execution_count": 26,
   "id": "5308fdac",
   "metadata": {},
   "outputs": [
    {
     "data": {
      "image/png": "[encoded data removed]",
      "text/plain": [
       "<Figure size 1200x600 with 1 Axes>"
      ]
     },
     "metadata": {},
     "output_type": "display_data"
    }
   ],
   "source": [
    "import matplotlib.pyplot as plt\n",
    "\n",
    "glass_AI_enriched['sector'].value_counts().plot(kind='bar', figsize=(12,6))\n",
    "plt.xlabel('Sector')\n",
    "plt.ylabel('Count')\n",
    "plt.title('Distribution of Companies by Sector')\n",
    "plt.tight_layout()\n",
    "plt.show()"
   ]
  },
  {
   "cell_type": "code",
   "execution_count": 24,
   "id": "3bd32011",
   "metadata": {},
   "outputs": [
    {
     "name": "stdout",
     "output_type": "stream",
     "text": [
      "['cloud-edge-iot' 'high performance computing' 'data analytics'\n",
      " 'advanced digital communications and connectivity' 'cybersecurity'\n",
      " 'artificial intelligence' 'blockchain' 'quantum technologies' 'robotics'\n",
      " 'photonics' 'next generation internet and extended reality'\n",
      " 'blockchain, distributed ledger and digital identity technologies'\n",
      " 'microelectronics, high frequency chips and semiconductors'\n",
      " 'advanced and high performance computing' 'quantum']\n"
     ]
    }
   ],
   "source": [
    "print(glass_AI_enriched['sector'].unique())\n"
   ]
  },
  {
   "cell_type": "code",
   "execution_count": null,
   "id": "33f70329",
   "metadata": {
    "vscode": {
     "languageId": "javascript"
    }
   },
   "outputs": [],
   "source": [
    "glass_AI_enriched['sector'] = glass_AI_enriched['sector'].replace({\n",
    "    'advanced and high performance computing': 'high performance computing',\n",
    "    'quantum technologies': 'quantum',\n",
    "    'blockchain, distributed ledger and digital identity technologies': 'blockchain'\n",
    "}) "
   ]
  },
  {
   "cell_type": "code",
   "execution_count": null,
   "id": "c5d8b733",
   "metadata": {
    "vscode": {
     "languageId": "javascript"
    }
   },
   "outputs": [],
   "source": [
    "df_filtered_companies_sector_group = df_unique_companies_by_sector.groupby('Sector').size()"
   ]
  },
  {
   "cell_type": "code",
   "execution_count": null,
   "id": "1e584667",
   "metadata": {},
   "outputs": [
    {
     "name": "stdout",
     "output_type": "stream",
     "text": [
      "(97919, 8)\n"
     ]
    }
   ],
   "source": [
    "\n",
    "glass_AI_enriched_dedup = glass_AI_enriched.drop_duplicates(subset=['org_ID', 'sector'], keep='first').reset_index(drop=True)\n",
    "print(glass_AI_enriched_dedup.shape)"
   ]
  },
  {
   "cell_type": "code",
   "execution_count": 30,
   "id": "69f51af5",
   "metadata": {
    "vscode": {
     "languageId": "javascript"
    }
   },
   "outputs": [],
   "source": [
    "save_path = PROCESSED_DATA_DIR / 'glass_ai_enriched.csv'\n",
    "glass_AI_enriched_dedup.to_csv(save_path, index=False)"
   ]
  }
 ],
 "metadata": {
  "kernelspec": {
   "display_name": ".venv",
   "language": "python",
   "name": "python3"
  },
  "language_info": {
   "codemirror_mode": {
    "name": "ipython",
    "version": 3
   },
   "file_extension": ".py",
   "mimetype": "text/x-python",
   "name": "python",
   "nbconvert_exporter": "python",
   "pygments_lexer": "ipython3",
   "version": "3.12.11"
  }
 },
 "nbformat": 4,
 "nbformat_minor": 5
}
