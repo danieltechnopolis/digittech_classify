{
 "cells": [
  {
   "cell_type": "code",
   "execution_count": null,
   "id": "053368d0",
   "metadata": {},
   "outputs": [],
   "source": [
    "import sys\n",
    "sys.path.append(\"../../digitech_classify\")\n",
    "\n",
    "import pandas as pd\n",
    "from digitech_classify.config import PROCESSED_DATA_DIR, INTERIM_DATA_DIR\n",
    "\n",
    "\n",
    "\n"
   ]
  },
  {
   "cell_type": "code",
   "execution_count": null,
   "id": "5b5eb30e",
   "metadata": {},
   "outputs": [],
   "source": [
    "df1 = pd.read_csv(PROCESSED_DATA_DIR / \"company_tagged_all-MiniLM-L6-v2.csv\")\n",
    "df2 = pd.read_csv(PROCESSED_DATA_DIR / \"companies_tagged_en_core_web_lg.csv\")        \n",
    "df3 = pd.read_csv(PROCESSED_DATA_DIR / \"tech_keyword_match_lemaspacey.csv\")"
   ]
  },
  {
   "cell_type": "code",
   "execution_count": null,
   "id": "e5061e30",
   "metadata": {},
   "outputs": [],
   "source": [
    "df3 = df3[df3['data_source'] != 'Net0']\n",
    "\n",
    "print(df1.shape, df2.shape, df3.shape)\n",
    "print(df1.columns, df2.columns, df3.columns)"
   ]
  },
  {
   "cell_type": "code",
   "execution_count": null,
   "id": "5afe1a71",
   "metadata": {},
   "outputs": [],
   "source": [
    "\n",
    "df1 = df1.rename(columns={'keyword_miniLM': 'keyword'})\n",
    "df2 = df2.rename(columns={'keyword_web_lg': 'keyword'})\n",
    "df3 = df3.rename(columns={'matched_keyword': 'keyword'})  \n",
    "\n",
    "\n",
    "df1_sub = df1[['org_ID', 'organisation_name', 'keyword']]\n",
    "df2_sub = df2[['org_ID', 'organisation_name', 'keyword']]\n",
    "df3_sub = df3[['org_ID', 'organisation_name', 'keyword']]\n",
    "\n",
    "\n",
    "\n",
    "final_df = pd.concat([df1_sub, df2_sub, df3_sub], ignore_index=True)\n",
    "\n",
    "\n"
   ]
  },
  {
   "cell_type": "code",
   "execution_count": null,
   "id": "f905772f",
   "metadata": {},
   "outputs": [],
   "source": [
    "print(final_df.shape)"
   ]
  },
  {
   "cell_type": "code",
   "execution_count": null,
   "id": "dbdf0382",
   "metadata": {},
   "outputs": [],
   "source": [
    "\n",
    "kw_df = pd.read_csv(INTERIM_DATA_DIR / \"keywords_lemma.csv\")\n",
    "kw_df.columns\n"
   ]
  },
  {
   "cell_type": "code",
   "execution_count": null,
   "id": "8b1e2234",
   "metadata": {},
   "outputs": [],
   "source": [
    "final_df['keyword'] = final_df['keyword'].astype(str).str.strip().str.lower()\n",
    "kw_df['keywords_lemma'] = kw_df['keywords_lemma'].astype(str).str.strip().str.lower()\n",
    "\n",
    "final_df = final_df.merge(\n",
    "    kw_df[['Sector', 'Keyword', 'keywords_lemma']],\n",
    "    left_on='keyword',\n",
    "    right_on='keywords_lemma',\n",
    "    how='left'\n",
    ")\n"
   ]
  },
  {
   "cell_type": "code",
   "execution_count": null,
   "id": "576e6a78",
   "metadata": {},
   "outputs": [],
   "source": [
    "\n",
    "final_df = final_df.drop(columns=['Keyword'])\n",
    "final_df = final_df[['org_ID', 'organisation_name', 'keyword', 'keywords_lemma', 'Sector']]"
   ]
  },
  {
   "cell_type": "code",
   "execution_count": null,
   "id": "fc6f43d4",
   "metadata": {},
   "outputs": [],
   "source": [
    "raw_df = pd.read_csv(INTERIM_DATA_DIR / \"cleaned_companies_text.csv\")\n",
    "print(raw_df.columns)"
   ]
  },
  {
   "cell_type": "code",
   "execution_count": null,
   "id": "046f1574",
   "metadata": {},
   "outputs": [],
   "source": [
    "\n",
    "\n",
    "final_df = final_df.merge(\n",
    "    raw_df[['org_ID', 'search_text']],\n",
    "    on='org_ID',\n",
    "    how='left'\n",
    ")"
   ]
  },
  {
   "cell_type": "code",
   "execution_count": null,
   "id": "7429b418",
   "metadata": {},
   "outputs": [],
   "source": [
    "print(final_df['Sector'].unique())"
   ]
  },
  {
   "cell_type": "code",
   "execution_count": null,
   "id": "b04365bc",
   "metadata": {},
   "outputs": [],
   "source": [
    "sectors = [\n",
    "    'cybersecurity', 'cloud-edge-iot', 'artificial intelligence',\n",
    "    'data analytics', 'next generation internet and extended reality',\n",
    "    'blockchain', 'advanced digital communications and connectivity',\n",
    "    'high performance computing', 'photonics', 'robotics',\n",
    "    'quantum technologies'\n",
    "]\n",
    "\n",
    "samples = []\n",
    "for sector in sectors:\n",
    "    sector_df = final_df[final_df['Sector'] == sector].sample(n=100, random_state=42, replace=False)\n",
    "    samples.append(sector_df)\n",
    "\n",
    "sampled_df = pd.concat(samples, ignore_index=True)\n",
    "\n",
    "\n",
    "sampled_df.to_excel(PROCESSED_DATA_DIR / \"sampled_100_per_sector.xlsx\", index=False)"
   ]
  },
  {
   "cell_type": "code",
   "execution_count": null,
   "id": "4d319cc1",
   "metadata": {},
   "outputs": [],
   "source": [
    "final_df.to_csv(PROCESSED_DATA_DIR / \"final_dataset.csv\", index=False)"
   ]
  }
 ],
 "metadata": {
  "kernelspec": {
   "display_name": ".venv",
   "language": "python",
   "name": "python3"
  },
  "language_info": {
   "codemirror_mode": {
    "name": "ipython",
    "version": 3
   },
   "file_extension": ".py",
   "mimetype": "text/x-python",
   "name": "python",
   "nbconvert_exporter": "python",
   "pygments_lexer": "ipython3",
   "version": "3.12.11"
  }
 },
 "nbformat": 4,
 "nbformat_minor": 5
}
