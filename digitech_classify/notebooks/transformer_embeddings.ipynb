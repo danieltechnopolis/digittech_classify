{
 "cells": [
  {
   "cell_type": "code",
   "execution_count": null,
   "id": "18c17d84",
   "metadata": {},
   "outputs": [],
   "source": [
    "import sys\n",
    "sys.path.append(\"../../digitech_classify\")\n",
    "\n",
    "import numpy as np\n",
    "import pandas as pd\n",
    "from sentence_transformers import SentenceTransformer\n",
    "\n",
    "from digitech_classify.pipeline.config import INTERIM_DATA_DIR\n",
    "from digitech_classify.pipeline.data_engineering.features import embed_keywords_transformer, embed_texts_transformer"
   ]
  },
  {
   "cell_type": "code",
   "execution_count": null,
   "id": "53fe4c5f",
   "metadata": {},
   "outputs": [],
   "source": [
    "data_path = INTERIM_DATA_DIR / \"company_lemma_full_description.csv\"\n",
    "company_df = pd.read_csv(data_path)\n",
    "\n",
    "\n",
    "keywords_path = INTERIM_DATA_DIR / \"keywords_lemma.csv\"\n",
    "keyword_df = pd.read_csv(keywords_path)"
   ]
  },
  {
   "cell_type": "code",
   "execution_count": null,
   "id": "67035add",
   "metadata": {},
   "outputs": [],
   "source": [
    "model = SentenceTransformer('all-MiniLM-L6-v2')\n",
    "\n",
    "\n",
    "texts = company_df[['org_ID', 'features_lemma']].dropna().astype(str)\n",
    "embeddings = embed_texts_transformer(texts['features_lemma'].tolist(), model)\n"
   ]
  },
  {
   "cell_type": "code",
   "execution_count": null,
   "id": "3ee00940",
   "metadata": {},
   "outputs": [],
   "source": [
    "print(f\"Embedding shape: {embeddings.shape}\")"
   ]
  },
  {
   "cell_type": "code",
   "execution_count": null,
   "id": "435e785e",
   "metadata": {},
   "outputs": [],
   "source": [
    "keywords = keyword_df['keywords_lemma'].tolist()\n",
    "keyword_vectors = embed_keywords_transformer(keywords, model)\n"
   ]
  },
  {
   "cell_type": "code",
   "execution_count": null,
   "id": "8edbc1c5",
   "metadata": {},
   "outputs": [],
   "source": [
    "np.savez(INTERIM_DATA_DIR / 'keywords_embeddings_all-MiniLM-L6-v2.npz',\n",
    "         embeddings=keyword_vectors,\n",
    "         keywords=keywords)"
   ]
  },
  {
   "cell_type": "code",
   "execution_count": null,
   "id": "72c853ef",
   "metadata": {},
   "outputs": [],
   "source": [
    "np.savez(INTERIM_DATA_DIR / 'company_embeddings_all-MiniLM-L6-v2.npz',\n",
    "         embeddings=embeddings,\n",
    "         org_ID=texts['org_ID'].values)"
   ]
  }
 ],
 "metadata": {
  "kernelspec": {
   "display_name": ".venv",
   "language": "python",
   "name": "python3"
  },
  "language_info": {
   "codemirror_mode": {
    "name": "ipython",
    "version": 3
   },
   "file_extension": ".py",
   "mimetype": "text/x-python",
   "name": "python",
   "nbconvert_exporter": "python",
   "pygments_lexer": "ipython3",
   "version": "3.11.13"
  }
 },
 "nbformat": 4,
 "nbformat_minor": 5
}
