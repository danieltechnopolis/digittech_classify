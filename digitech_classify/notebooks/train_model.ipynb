{
 "cells": [
  {
   "cell_type": "code",
   "execution_count": 1,
   "id": "19c2d2ed",
   "metadata": {},
   "outputs": [],
   "source": [
    "import sys\n",
    "sys.path.append(\"../../digitech_classify\")\n",
    "\n",
    "import joblib\n",
    "import pandas as pd \n",
    "import numpy as np\n",
    "from sklearn.preprocessing import MultiLabelBinarizer\n",
    "from sklearn.model_selection import train_test_split\n",
    "\n",
    "from pipeline.config import PROCESSED_DATA_DIR, MODELS_DIR\n",
    "from pipeline.modeling.train import train_model, evaluate_model\n",
    "from pipeline.plots import plot_roc, plot_pr, plot_confusion_matrix\n",
    "\n"
   ]
  },
  {
   "cell_type": "code",
   "execution_count": null,
   "id": "b058a28d",
   "metadata": {},
   "outputs": [],
   "source": [
    "data = np.load(PROCESSED_DATA_DIR / \"training_set_multilabel_all-MiniLM-L6-v2.npz\", allow_pickle=True)\n",
    "\n",
    "X_train = data[\"embeddings\"]             \n",
    "y_train = data[\"sector_label\"]            \n",
    "org_ids = data[\"org_ID\"]                  \n",
    "\n",
    "\n",
    "print(\"Embeddings shape:\", X_train.shape)\n",
    "print(\"Labels shape:\", y_train.shape)\n",
    "print(\"First few labels:\", y_train[:5])"
   ]
  },
  {
   "cell_type": "code",
   "execution_count": null,
   "id": "f31f4375",
   "metadata": {},
   "outputs": [],
   "source": [
    "from collections import Counter\n",
    "import ast\n",
    "\n",
    "import matplotlib.pyplot as plt\n",
    "\n",
    "\n",
    "all_labels = []\n",
    "for label_str in y_train:\n",
    "    labels = ast.literal_eval(label_str)\n",
    "    all_labels.extend(labels)\n",
    "\n",
    "label_counts = Counter(all_labels)\n",
    "\n",
    "plt.figure(figsize=(12, 6))\n",
    "plt.bar(label_counts.keys(), label_counts.values())\n",
    "plt.xticks(rotation=45, ha='right')\n",
    "plt.xlabel('Tech Sector')\n",
    "plt.ylabel('Count')\n",
    "plt.title('Distribution of Labels in y_train')\n",
    "plt.tight_layout()\n",
    "plt.show()"
   ]
  },
  {
   "cell_type": "code",
   "execution_count": null,
   "id": "6bf496a6",
   "metadata": {},
   "outputs": [],
   "source": [
    "\n",
    "mlb = MultiLabelBinarizer()\n",
    "y_all_encoded = mlb.fit_transform(y_train)\n",
    "print(\"Encoded labels shape:\", y_all_encoded.shape)"
   ]
  },
  {
   "cell_type": "code",
   "execution_count": null,
   "id": "92abf014",
   "metadata": {},
   "outputs": [],
   "source": [
    "\n",
    "X_train_split, X_test, y_train_split, y_test = train_test_split(X_train, y_all_encoded, test_size=0.2, random_state=42)"
   ]
  },
  {
   "cell_type": "code",
   "execution_count": null,
   "id": "e4d4adb3",
   "metadata": {},
   "outputs": [],
   "source": [
    "clf = train_model(X_train_split, y_train_split)"
   ]
  },
  {
   "cell_type": "code",
   "execution_count": null,
   "id": "4ac352ef",
   "metadata": {},
   "outputs": [],
   "source": [
    "probs = clf.predict_proba(X_test)\n",
    "\n",
    "preds = clf.predict(X_test)  \n",
    "\n",
    "\n",
    "class_indices = np.searchsorted(clf.classes_, preds)\n",
    "pred_confidence = probs[np.arange(len(preds)), class_indices]"
   ]
  },
  {
   "cell_type": "code",
   "execution_count": null,
   "id": "a8511d7f",
   "metadata": {},
   "outputs": [],
   "source": [
    "string_labels = label_encoder.classes_"
   ]
  },
  {
   "cell_type": "code",
   "execution_count": null,
   "id": "af4ded65",
   "metadata": {},
   "outputs": [],
   "source": [
    "df = pd.DataFrame({\n",
    "    \"true_label\": string_labels[y_test],      # original label\n",
    "    \"pred_label\": string_labels[preds],       # predicted label\n",
    "    \"pred_confidence\": pred_confidence\n",
    "})"
   ]
  },
  {
   "cell_type": "code",
   "execution_count": null,
   "id": "4dcba6a9",
   "metadata": {},
   "outputs": [],
   "source": [
    "accuracy, report, preds = evaluate_model(clf, X_test, y_all_encoded)\n",
    "\n",
    "\n",
    "\n",
    "\n",
    "report_df = pd.DataFrame(report).transpose()\n",
    "\n",
    "# Only keep rows that are class indices (filter out 'accuracy', 'macro avg', etc.)\n",
    "class_indices = [str(i) for i in range(len(label_encoder.classes_))]\n",
    "class_rows = report_df.index.isin(class_indices)\n",
    "sector_report_df = report_df[class_rows].copy()\n",
    "\n",
    "# Map back to tech sector names\n",
    "sector_report_df['sector_name'] = [label_encoder.classes_[int(idx)] for idx in sector_report_df.index]\n",
    "\n",
    "sector_report_df = sector_report_df[['sector_name', 'precision', 'recall', 'f1-score', 'support']]\n",
    "\n",
    "sector_report_df = sector_report_df.reset_index(drop=True)\n",
    "\n",
    "print(sector_report_df.head())"
   ]
  },
  {
   "cell_type": "code",
   "execution_count": null,
   "id": "f687eacc",
   "metadata": {},
   "outputs": [],
   "source": [
    "MODELS_DIR.mkdir(parents=True, exist_ok=True)\n",
    "\n",
    "save_path = MODELS_DIR / \"LregModel_v1.joblib\"\n",
    "joblib.dump(clf, save_path)\n",
    "\n"
   ]
  }
 ],
 "metadata": {
  "kernelspec": {
   "display_name": ".venv",
   "language": "python",
   "name": "python3"
  },
  "language_info": {
   "codemirror_mode": {
    "name": "ipython",
    "version": 3
   },
   "file_extension": ".py",
   "mimetype": "text/x-python",
   "name": "python",
   "nbconvert_exporter": "python",
   "pygments_lexer": "ipython3",
   "version": "3.12.11"
  }
 },
 "nbformat": 4,
 "nbformat_minor": 5
}
