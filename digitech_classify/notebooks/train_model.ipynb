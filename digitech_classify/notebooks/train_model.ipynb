{
 "cells": [
  {
   "cell_type": "code",
   "execution_count": null,
   "id": "19c2d2ed",
   "metadata": {},
   "outputs": [],
   "source": [
    "import sys\n",
    "sys.path.append(\"../../digitech_classify\")\n",
    "\n",
    "import joblib\n",
    "import ast\n",
    "import pandas as pd \n",
    "import numpy as np\n",
    "from sklearn.preprocessing import MultiLabelBinarizer\n",
    "from pipeline.config import PROCESSED_DATA_DIR, MODELS_DIR\n",
    "from pipeline.modeling.train import train_and_evaluate_multilabel, train_random_forest, evaluate_model\n",
    "from sklearn.model_selection import RandomizedSearchCV, cross_val_predict\n",
    "from skmultilearn.model_selection import IterativeStratification\n",
    "from sklearn.neural_network import MLPClassifier\n",
    "from sklearn.metrics import classification_report\n",
    "from scipy.stats import uniform\n"
   ]
  },
  {
   "cell_type": "code",
   "execution_count": null,
   "id": "b058a28d",
   "metadata": {},
   "outputs": [],
   "source": [
    "data = np.load(PROCESSED_DATA_DIR / \"training_set_multilabel_all-MiniLM-L6-v2.npz\", allow_pickle=True)\n",
    "\n",
    "X_train = data[\"embeddings\"]             \n",
    "y_train = data[\"sector_label\"]            \n",
    "org_ids = data[\"org_ID\"]                  \n",
    "\n",
    "\n",
    "print(\"Embeddings shape:\", X_train.shape)\n",
    "print(\"Labels shape:\", y_train.shape)\n",
    "print(\"First few labels:\", y_train[:5])\n",
    "print(\"org_ids dtype:\", org_ids.dtype)\n",
    "print(\"y_train dtype:\", y_train.dtype)"
   ]
  },
  {
   "cell_type": "code",
   "execution_count": null,
   "id": "6bf496a6",
   "metadata": {},
   "outputs": [],
   "source": [
    "# Parse string representations into actual lists : multilabel binarization requires list\n",
    "parsed_labels = []\n",
    "for label_str in y_train:\n",
    "    labels = ast.literal_eval(label_str)\n",
    "    parsed_labels.append(labels)\n"
   ]
  },
  {
   "cell_type": "code",
   "execution_count": null,
   "id": "5da420c2",
   "metadata": {},
   "outputs": [],
   "source": [
    "\n",
    "\n",
    "mlb = MultiLabelBinarizer()\n",
    "y_encoded = mlb.fit_transform(parsed_labels)\n",
    "print(\"Encoded labels shape:\", y_encoded.shape)\n",
    "print(\"Classes:\", mlb.classes_)\n",
    "\n",
    "MultiLabelBinarizer().fit_transform(parsed_labels)"
   ]
  },
  {
   "cell_type": "code",
   "execution_count": null,
   "id": "81359f1c",
   "metadata": {},
   "outputs": [],
   "source": [
    "\n",
    "print(\"Running complete multilabel training pipeline...\")\n",
    "print(\"=\" * 60)\n",
    "\n",
    "pipeline_results = train_and_evaluate_multilabel(\n",
    "    X_train, y_encoded, \n",
    "    target_names=mlb.classes_,\n",
    "    test_size=0.2,\n",
    "    cv=5,\n",
    "    max_iter=1000,\n",
    "    random_state=42,\n",
    "    show_results=True\n",
    ")\n",
    "\n",
    "print(\"\\nPipeline completed!\")\n",
    "print(f\"Final model type: {type(pipeline_results['model'])}\")"
   ]
  },
  {
   "cell_type": "code",
   "execution_count": null,
   "id": "cba13873",
   "metadata": {},
   "outputs": [],
   "source": [
    "model_name = \"oneVrest_logreg_v1\"\n",
    "model_path = MODELS_DIR / f\"{model_name}.joblib\"\n",
    "joblib.dump(pipeline_results['model'], model_path)\n",
    "print(f\"Model saved to: {model_path}\")\n",
    "\n",
    "\n",
    "mlb_path = MODELS_DIR / f\"{model_name}__mlb.joblib\"\n",
    "joblib.dump(mlb, mlb_path)\n",
    "print(f\"MultiLabelBinarizer saved to: {mlb_path}\")\n",
    "\n",
    "# Save model metadata \n",
    "metadata = {\n",
    "    'model_type': 'OneVsRestClassifier_LogisticRegression',\n",
    "    'feature_dim': X_train.shape[1],\n",
    "    'n_classes': len(mlb.classes_),\n",
    "    'class_names': list(mlb.classes_),\n",
    "    'training_samples': X_train.shape[0],\n",
    "    'test_samples': pipeline_results['X_test'].shape[0],\n",
    "    'performance_metrics': {\n",
    "        'jaccard_score': pipeline_results['evaluation_metrics']['jaccard_score'],\n",
    "        'hamming_loss': pipeline_results['evaluation_metrics']['hamming_loss'],\n",
    "        'cv_jaccard_mean': pipeline_results['cv_scores']['test_jaccard_samples'].mean(),\n",
    "        'cv_jaccard_std': pipeline_results['cv_scores']['test_jaccard_samples'].std()\n",
    "    },\n",
    "    'hyperparameters': {\n",
    "        'max_iter': 1000,\n",
    "        'solver': 'lbfgs',\n",
    "        'random_state': 42,\n",
    "        'test_size': 0.2,\n",
    "        'cv_folds': 5\n",
    "    }\n",
    "}"
   ]
  },
  {
   "cell_type": "markdown",
   "id": "a98561e4",
   "metadata": {},
   "source": [
    "# Random forest classification\n"
   ]
  },
  {
   "cell_type": "code",
   "execution_count": null,
   "id": "f236aa52",
   "metadata": {},
   "outputs": [],
   "source": [
    "\n",
    "X_train, X_test, y_train, y_test = train_test_split(\n",
    "    X_train, y_encoded,\n",
    "    test_size=0.2,\n",
    "    random_state=42,\n",
    "    shuffle=True,\n",
    "    stratify=None  # Do NOT stratify for multilabel indicator y\n",
    ")\n"
   ]
  },
  {
   "cell_type": "code",
   "execution_count": null,
   "id": "895f447d",
   "metadata": {},
   "outputs": [],
   "source": [
    "rf_clf = train_random_forest(\n",
    "    X_train,\n",
    "    y_train,\n",
    "    n_estimators=200,\n",
    "    max_depth=30,\n",
    "    random_state=42,\n",
    "    multilabel=True\n",
    ")"
   ]
  },
  {
   "cell_type": "code",
   "execution_count": null,
   "id": "ab283018",
   "metadata": {},
   "outputs": [],
   "source": [
    "results = evaluate_model(\n",
    "    clf=rf_clf,\n",
    "    X_test=X_test,\n",
    "    y_test=y_test,\n",
    "    target_names=mlb.classes_,\n",
    "    multilabel=True,\n",
    "    show_report=True\n",
    ")"
   ]
  },
  {
   "cell_type": "code",
   "execution_count": null,
   "id": "41c8605a",
   "metadata": {},
   "outputs": [],
   "source": [
    "report_df = pd.DataFrame(results['classification_report']).T\n",
    "display(report_df)"
   ]
  },
  {
   "cell_type": "code",
   "execution_count": null,
   "id": "2feba9cf",
   "metadata": {},
   "outputs": [],
   "source": [
    "param_dist = {\n",
    "    \"estimator__n_estimators\": [100, 200, 300, 400],\n",
    "    \"estimator__max_depth\": [10, 20, 30, None],\n",
    "    \"estimator__min_samples_split\": [2, 5, 10],\n",
    "    \"estimator__min_samples_leaf\": [1, 2, 4],\n",
    "    \"estimator__bootstrap\": [True, False]\n",
    "}"
   ]
  },
  {
   "cell_type": "code",
   "execution_count": null,
   "id": "040b7fe7",
   "metadata": {},
   "outputs": [],
   "source": [
    "random_search = RandomizedSearchCV(\n",
    "    estimator=rf_clf,\n",
    "    param_distributions=param_dist,\n",
    "    n_iter=20,                 \n",
    "    scoring='f1_samples',       \n",
    "    cv=3,                       \n",
    "    verbose=2,\n",
    "    random_state=42,\n",
    "    n_jobs=-1\n",
    ")\n",
    "\n",
    "random_search.fit(X_train, y_train)"
   ]
  },
  {
   "cell_type": "code",
   "execution_count": null,
   "id": "2f846f4e",
   "metadata": {},
   "outputs": [],
   "source": [
    "print(\"Best parameters:\", random_search.best_params_)\n",
    "\n",
    "\n",
    "print(\"Best estimator:\", random_search.best_estimator_)\n",
    "\n",
    "\n",
    "print(\"Best cross-validation score (mean f1_samples):\", random_search.best_score_)"
   ]
  },
  {
   "cell_type": "code",
   "execution_count": null,
   "id": "11b758fb",
   "metadata": {},
   "outputs": [],
   "source": [
    "\n",
    "best_rf_model = random_search.best_estimator_\n",
    "\n",
    "model_name = \"random_forest_v1\"\n",
    "model_path = MODELS_DIR / f\"{model_name}.joblib\"\n",
    "joblib.dump(best_rf_model, model_path)\n",
    "print(f\"Best Random Forest model saved to: {model_path}\")\n",
    "\n",
    "\n",
    "mlb_path = MODELS_DIR / f\"{model_name}__mlb.joblib\"\n",
    "joblib.dump(mlb, mlb_path)\n",
    "print(f\"MultiLabelBinarizer saved to: {mlb_path}\")\n",
    "\n",
    "\n",
    "metadata = {\n",
    "    'model_type': 'RandomForest_RandomizedSearchCV_Best',\n",
    "    'best_params': random_search.best_params_,\n",
    "    'best_cv_score': random_search.best_score_,\n",
    "    'feature_dim': X_train.shape[1],\n",
    "    'n_classes': len(mlb.classes_),\n",
    "    'class_names': list(mlb.classes_),\n",
    "    'training_samples': X_train.shape[0],\n",
    "    'test_samples': X_test.shape[0],\n",
    "    'cv_folds': 3,\n",
    "    'scoring_metric': 'f1_samples',\n",
    "    'n_iter': 20\n",
    "}\n",
    "\n",
    "metadata_path = MODELS_DIR / f\"{model_name}_metadata.joblib\"\n",
    "joblib.dump(metadata, metadata_path)\n",
    "print(f\"Model metadata saved to: {metadata_path}\")"
   ]
  },
  {
   "cell_type": "markdown",
   "id": "f1470f56",
   "metadata": {},
   "source": [
    "### MLP Classification"
   ]
  },
  {
   "cell_type": "code",
   "execution_count": null,
   "id": "176d7c7c",
   "metadata": {},
   "outputs": [],
   "source": [
    "param_dist = {\n",
    "    'hidden_layer_sizes': [(128,), (256,), (128, 128), (256, 128)],\n",
    "    'activation': ['relu', 'tanh'],\n",
    "    'alpha': uniform(1e-5, 1e-3),\n",
    "    'learning_rate_init': uniform(1e-4, 1e-2),\n",
    "    'max_iter': [400, 500, 600, 700]\n",
    "}\n",
    "\n",
    "mlp = MLPClassifier(random_state=42)\n",
    "\n",
    "stratifier = IterativeStratification(n_splits=5, order=1)\n",
    "cv_splits = list(stratifier.split(X_train, y_encoded))\n",
    "\n",
    "# Randomized search with multilabel-aware cross-validation (skmultilearn version)\n",
    "random_search = RandomizedSearchCV(\n",
    "    estimator=mlp,\n",
    "    param_distributions=param_dist,\n",
    "    n_iter=10,\n",
    "    scoring='f1_samples', #average_precision\n",
    "    cv=cv_splits,\n",
    "    verbose=2,\n",
    "    n_jobs=2,\n",
    "    random_state=42\n",
    ")\n",
    "\n",
    "random_search.fit(X_train, y_encoded)\n",
    "print(\"Best params:\", random_search.best_params_)\n",
    "print(\"Best score:\", random_search.best_score_)"
   ]
  },
  {
   "cell_type": "code",
   "execution_count": null,
   "id": "031f9e11",
   "metadata": {},
   "outputs": [],
   "source": [
    "best_mlp_model = random_search.best_estimator_"
   ]
  },
  {
   "cell_type": "code",
   "execution_count": null,
   "id": "2a2e1f9e",
   "metadata": {},
   "outputs": [],
   "source": [
    "model_name = \"mlp_multilabel_v1\"\n",
    "model_path = MODELS_DIR / f\"{model_name}.joblib\"\n",
    "joblib.dump(best_mlp_model, model_path)\n",
    "print(f\"Best MLP model saved to: {model_path}\")\n",
    "\n",
    "\n",
    "mlb_path = MODELS_DIR / f\"{model_name}__mlb.joblib\"\n",
    "joblib.dump(mlb, mlb_path)\n",
    "print(f\"MultiLabelBinarizer saved to: {mlb_path}\")\n",
    "\n",
    "\n",
    "metadata = {\n",
    "    'model_type': 'MLPClassifier_RandomizedSearchCV_Best',\n",
    "    'best_params': random_search.best_params_,\n",
    "    'best_cv_score': random_search.best_score_,\n",
    "    'feature_dim': X_train.shape[1],\n",
    "    'n_classes': len(mlb.classes_),\n",
    "    'class_names': list(mlb.classes_),\n",
    "    'training_samples': X_train.shape[0],\n",
    "    'test_samples': X_test.shape[0] if 'X_test' in locals() else None,\n",
    "    'cv_folds': 5,\n",
    "    'scoring_metric': 'f1_samples',\n",
    "    'n_iter': random_search.n_iter\n",
    "}\n",
    "\n",
    "metadata_path = MODELS_DIR / f\"{model_name}_metadata.joblib\"\n",
    "joblib.dump(metadata, metadata_path)\n",
    "print(f\"Model metadata saved to: {metadata_path}\")\n",
    "\n",
    "\n",
    "print(\"\\nBest cross-validated F1 (samples):\", random_search.best_score_)\n",
    "print(\"Best hyperparameters:\", random_search.best_params_)"
   ]
  },
  {
   "cell_type": "code",
   "execution_count": 14,
   "id": "73532338",
   "metadata": {},
   "outputs": [
    {
     "name": "stdout",
     "output_type": "stream",
     "text": [
      "                                                           precision    recall  f1-score   support\n",
      "\n",
      "                          advanced-digital-communications       0.72      0.71      0.72      6953\n",
      "                                  artificial-intelligence       0.71      0.70      0.71     12250\n",
      "                                               blockchain       0.89      0.89      0.89     10686\n",
      "                                           cloud-edge-iot       0.77      0.77      0.77     18151\n",
      "                                            cybersecurity       0.82      0.83      0.82     22750\n",
      "                                           data-analytics       0.76      0.74      0.75     10416\n",
      "                               high-performance-computing       0.51      0.46      0.48      3507\n",
      "microelectronics, high frequency chips and semiconductors       0.29      0.25      0.27       785\n",
      "                                 next-generation-internet       0.68      0.65      0.67      4851\n",
      "                                                photonics       0.88      0.86      0.87      6231\n",
      "                                                  quantum       0.86      0.83      0.85       781\n",
      "                                                 robotics       0.82      0.81      0.81      3085\n",
      "\n",
      "                                                micro avg       0.78      0.77      0.77    100446\n",
      "                                                macro avg       0.73      0.71      0.72    100446\n",
      "                                             weighted avg       0.77      0.77      0.77    100446\n",
      "                                              samples avg       0.80      0.82      0.79    100446\n",
      "\n"
     ]
    }
   ],
   "source": [
    "\n",
    "\n",
    "\n",
    "\n",
    "\n",
    "best_mlp = MLPClassifier(**random_search.best_params_, random_state=42)\n",
    "\n",
    "\n",
    "y_pred_cv = cross_val_predict(\n",
    "    best_mlp, \n",
    "    X_train, \n",
    "    y_encoded, \n",
    "    cv=IterativeStratification(n_splits=5, order=1), \n",
    "    method='predict',\n",
    "    n_jobs=2\n",
    ")\n",
    "\n",
    "\n",
    "print(classification_report(y_encoded, y_pred_cv, target_names=mlb.classes_, zero_division=0))\n"
   ]
  },
  {
   "cell_type": "code",
   "execution_count": null,
   "id": "f3efba85",
   "metadata": {},
   "outputs": [],
   "source": []
  }
 ],
 "metadata": {
  "kernelspec": {
   "display_name": ".venv",
   "language": "python",
   "name": "python3"
  },
  "language_info": {
   "codemirror_mode": {
    "name": "ipython",
    "version": 3
   },
   "file_extension": ".py",
   "mimetype": "text/x-python",
   "name": "python",
   "nbconvert_exporter": "python",
   "pygments_lexer": "ipython3",
   "version": "3.11.13"
  }
 },
 "nbformat": 4,
 "nbformat_minor": 5
}
